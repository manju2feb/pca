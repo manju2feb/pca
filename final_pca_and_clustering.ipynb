{
 "cells": [
  {
   "cell_type": "markdown",
   "metadata": {},
   "source": [
    "## Clustering the Countries using K-means and PCA for HELP International\n",
    "\n",
    "**Objective:** To categorise the countries using socio-economic and health factors that determine the overall development of the country.\n",
    "\n",
    "**About organization:** HELP International is an international humanitarian NGO that is committed to fighting poverty and providing the people of backward countries with basic amenities and relief during the time of disasters and natural calamities.\n",
    "\n",
    "**Problem Statement:** HELP International have been able to raise around $ 10 million. Now the CEO of the NGO needs to decide how to use this money strategically and effectively. So, CEO has to make decision to choose the countries that are in the direst need of aid. Hence, My job as a Data analyst is to categorise the countries using some socio-economic and health factors that determine the overall development of the country. Then I need to suggest the countries which the CEO needs to focus on the most."
   ]
  },
  {
   "cell_type": "markdown",
   "metadata": {},
   "source": [
    "### Step 1: Reading and Understanding the Data\n",
    "\n",
    "Importing NumPy, Pandas, matplotlib, seaborn, sklearn and scipy libraries needed for this analysis and read the dataset"
   ]
  },
  {
   "cell_type": "code",
   "execution_count": 2,
   "metadata": {},
   "outputs": [],
   "source": [
    "#Supress Warnings if any\n",
    "import warnings\n",
    "warnings.filterwarnings('ignore')\n",
    "\n",
    "#For Data Analysis\n",
    "import pandas as pd\n",
    "import numpy as np\n",
    "\n",
    "#For Visualisation\n",
    "import matplotlib.pyplot as plt\n",
    "import seaborn as sns\n",
    "%matplotlib inline\n",
    "\n",
    "#For K-means clustering\n",
    "from sklearn.cluster import KMeans\n"
   ]
  },
  {
   "cell_type": "code",
   "execution_count": 3,
   "metadata": {},
   "outputs": [
    {
     "data": {
      "text/html": [
       "<div>\n",
       "<style scoped>\n",
       "    .dataframe tbody tr th:only-of-type {\n",
       "        vertical-align: middle;\n",
       "    }\n",
       "\n",
       "    .dataframe tbody tr th {\n",
       "        vertical-align: top;\n",
       "    }\n",
       "\n",
       "    .dataframe thead th {\n",
       "        text-align: right;\n",
       "    }\n",
       "</style>\n",
       "<table border=\"1\" class=\"dataframe\">\n",
       "  <thead>\n",
       "    <tr style=\"text-align: right;\">\n",
       "      <th></th>\n",
       "      <th>country</th>\n",
       "      <th>child_mort</th>\n",
       "      <th>exports</th>\n",
       "      <th>health</th>\n",
       "      <th>imports</th>\n",
       "      <th>income</th>\n",
       "      <th>inflation</th>\n",
       "      <th>life_expec</th>\n",
       "      <th>total_fer</th>\n",
       "      <th>gdpp</th>\n",
       "    </tr>\n",
       "  </thead>\n",
       "  <tbody>\n",
       "    <tr>\n",
       "      <th>0</th>\n",
       "      <td>Afghanistan</td>\n",
       "      <td>90.2</td>\n",
       "      <td>10.0</td>\n",
       "      <td>7.58</td>\n",
       "      <td>44.9</td>\n",
       "      <td>1610</td>\n",
       "      <td>9.44</td>\n",
       "      <td>56.2</td>\n",
       "      <td>5.82</td>\n",
       "      <td>553</td>\n",
       "    </tr>\n",
       "    <tr>\n",
       "      <th>1</th>\n",
       "      <td>Albania</td>\n",
       "      <td>16.6</td>\n",
       "      <td>28.0</td>\n",
       "      <td>6.55</td>\n",
       "      <td>48.6</td>\n",
       "      <td>9930</td>\n",
       "      <td>4.49</td>\n",
       "      <td>76.3</td>\n",
       "      <td>1.65</td>\n",
       "      <td>4090</td>\n",
       "    </tr>\n",
       "    <tr>\n",
       "      <th>2</th>\n",
       "      <td>Algeria</td>\n",
       "      <td>27.3</td>\n",
       "      <td>38.4</td>\n",
       "      <td>4.17</td>\n",
       "      <td>31.4</td>\n",
       "      <td>12900</td>\n",
       "      <td>16.10</td>\n",
       "      <td>76.5</td>\n",
       "      <td>2.89</td>\n",
       "      <td>4460</td>\n",
       "    </tr>\n",
       "    <tr>\n",
       "      <th>3</th>\n",
       "      <td>Angola</td>\n",
       "      <td>119.0</td>\n",
       "      <td>62.3</td>\n",
       "      <td>2.85</td>\n",
       "      <td>42.9</td>\n",
       "      <td>5900</td>\n",
       "      <td>22.40</td>\n",
       "      <td>60.1</td>\n",
       "      <td>6.16</td>\n",
       "      <td>3530</td>\n",
       "    </tr>\n",
       "    <tr>\n",
       "      <th>4</th>\n",
       "      <td>Antigua and Barbuda</td>\n",
       "      <td>10.3</td>\n",
       "      <td>45.5</td>\n",
       "      <td>6.03</td>\n",
       "      <td>58.9</td>\n",
       "      <td>19100</td>\n",
       "      <td>1.44</td>\n",
       "      <td>76.8</td>\n",
       "      <td>2.13</td>\n",
       "      <td>12200</td>\n",
       "    </tr>\n",
       "  </tbody>\n",
       "</table>\n",
       "</div>"
      ],
      "text/plain": [
       "               country  child_mort  exports  health  imports  income  \\\n",
       "0          Afghanistan        90.2     10.0    7.58     44.9    1610   \n",
       "1              Albania        16.6     28.0    6.55     48.6    9930   \n",
       "2              Algeria        27.3     38.4    4.17     31.4   12900   \n",
       "3               Angola       119.0     62.3    2.85     42.9    5900   \n",
       "4  Antigua and Barbuda        10.3     45.5    6.03     58.9   19100   \n",
       "\n",
       "   inflation  life_expec  total_fer   gdpp  \n",
       "0       9.44        56.2       5.82    553  \n",
       "1       4.49        76.3       1.65   4090  \n",
       "2      16.10        76.5       2.89   4460  \n",
       "3      22.40        60.1       6.16   3530  \n",
       "4       1.44        76.8       2.13  12200  "
      ]
     },
     "execution_count": 3,
     "metadata": {},
     "output_type": "execute_result"
    }
   ],
   "source": [
    "#Importing datasets\n",
    "country_data = pd.read_csv(\"Country-data.csv\")\n",
    "country_data.head()"
   ]
  },
  {
   "cell_type": "code",
   "execution_count": 4,
   "metadata": {},
   "outputs": [
    {
     "data": {
      "text/plain": [
       "(167, 10)"
      ]
     },
     "execution_count": 4,
     "metadata": {},
     "output_type": "execute_result"
    }
   ],
   "source": [
    "country_data.shape"
   ]
  },
  {
   "cell_type": "code",
   "execution_count": 5,
   "metadata": {},
   "outputs": [
    {
     "name": "stdout",
     "output_type": "stream",
     "text": [
      "<class 'pandas.core.frame.DataFrame'>\n",
      "RangeIndex: 167 entries, 0 to 166\n",
      "Data columns (total 10 columns):\n",
      "country       167 non-null object\n",
      "child_mort    167 non-null float64\n",
      "exports       167 non-null float64\n",
      "health        167 non-null float64\n",
      "imports       167 non-null float64\n",
      "income        167 non-null int64\n",
      "inflation     167 non-null float64\n",
      "life_expec    167 non-null float64\n",
      "total_fer     167 non-null float64\n",
      "gdpp          167 non-null int64\n",
      "dtypes: float64(7), int64(2), object(1)\n",
      "memory usage: 13.1+ KB\n"
     ]
    }
   ],
   "source": [
    "country_data.info()"
   ]
  },
  {
   "cell_type": "code",
   "execution_count": 6,
   "metadata": {},
   "outputs": [
    {
     "data": {
      "text/html": [
       "<div>\n",
       "<style scoped>\n",
       "    .dataframe tbody tr th:only-of-type {\n",
       "        vertical-align: middle;\n",
       "    }\n",
       "\n",
       "    .dataframe tbody tr th {\n",
       "        vertical-align: top;\n",
       "    }\n",
       "\n",
       "    .dataframe thead th {\n",
       "        text-align: right;\n",
       "    }\n",
       "</style>\n",
       "<table border=\"1\" class=\"dataframe\">\n",
       "  <thead>\n",
       "    <tr style=\"text-align: right;\">\n",
       "      <th></th>\n",
       "      <th>child_mort</th>\n",
       "      <th>exports</th>\n",
       "      <th>health</th>\n",
       "      <th>imports</th>\n",
       "      <th>income</th>\n",
       "      <th>inflation</th>\n",
       "      <th>life_expec</th>\n",
       "      <th>total_fer</th>\n",
       "      <th>gdpp</th>\n",
       "    </tr>\n",
       "  </thead>\n",
       "  <tbody>\n",
       "    <tr>\n",
       "      <th>count</th>\n",
       "      <td>167.000000</td>\n",
       "      <td>167.000000</td>\n",
       "      <td>167.000000</td>\n",
       "      <td>167.000000</td>\n",
       "      <td>167.000000</td>\n",
       "      <td>167.000000</td>\n",
       "      <td>167.000000</td>\n",
       "      <td>167.000000</td>\n",
       "      <td>167.000000</td>\n",
       "    </tr>\n",
       "    <tr>\n",
       "      <th>mean</th>\n",
       "      <td>38.270060</td>\n",
       "      <td>41.108976</td>\n",
       "      <td>6.815689</td>\n",
       "      <td>46.890215</td>\n",
       "      <td>17144.688623</td>\n",
       "      <td>7.781832</td>\n",
       "      <td>70.555689</td>\n",
       "      <td>2.947964</td>\n",
       "      <td>12964.155689</td>\n",
       "    </tr>\n",
       "    <tr>\n",
       "      <th>std</th>\n",
       "      <td>40.328931</td>\n",
       "      <td>27.412010</td>\n",
       "      <td>2.746837</td>\n",
       "      <td>24.209589</td>\n",
       "      <td>19278.067698</td>\n",
       "      <td>10.570704</td>\n",
       "      <td>8.893172</td>\n",
       "      <td>1.513848</td>\n",
       "      <td>18328.704809</td>\n",
       "    </tr>\n",
       "    <tr>\n",
       "      <th>min</th>\n",
       "      <td>2.600000</td>\n",
       "      <td>0.109000</td>\n",
       "      <td>1.810000</td>\n",
       "      <td>0.065900</td>\n",
       "      <td>609.000000</td>\n",
       "      <td>-4.210000</td>\n",
       "      <td>32.100000</td>\n",
       "      <td>1.150000</td>\n",
       "      <td>231.000000</td>\n",
       "    </tr>\n",
       "    <tr>\n",
       "      <th>25%</th>\n",
       "      <td>8.250000</td>\n",
       "      <td>23.800000</td>\n",
       "      <td>4.920000</td>\n",
       "      <td>30.200000</td>\n",
       "      <td>3355.000000</td>\n",
       "      <td>1.810000</td>\n",
       "      <td>65.300000</td>\n",
       "      <td>1.795000</td>\n",
       "      <td>1330.000000</td>\n",
       "    </tr>\n",
       "    <tr>\n",
       "      <th>50%</th>\n",
       "      <td>19.300000</td>\n",
       "      <td>35.000000</td>\n",
       "      <td>6.320000</td>\n",
       "      <td>43.300000</td>\n",
       "      <td>9960.000000</td>\n",
       "      <td>5.390000</td>\n",
       "      <td>73.100000</td>\n",
       "      <td>2.410000</td>\n",
       "      <td>4660.000000</td>\n",
       "    </tr>\n",
       "    <tr>\n",
       "      <th>75%</th>\n",
       "      <td>62.100000</td>\n",
       "      <td>51.350000</td>\n",
       "      <td>8.600000</td>\n",
       "      <td>58.750000</td>\n",
       "      <td>22800.000000</td>\n",
       "      <td>10.750000</td>\n",
       "      <td>76.800000</td>\n",
       "      <td>3.880000</td>\n",
       "      <td>14050.000000</td>\n",
       "    </tr>\n",
       "    <tr>\n",
       "      <th>max</th>\n",
       "      <td>208.000000</td>\n",
       "      <td>200.000000</td>\n",
       "      <td>17.900000</td>\n",
       "      <td>174.000000</td>\n",
       "      <td>125000.000000</td>\n",
       "      <td>104.000000</td>\n",
       "      <td>82.800000</td>\n",
       "      <td>7.490000</td>\n",
       "      <td>105000.000000</td>\n",
       "    </tr>\n",
       "  </tbody>\n",
       "</table>\n",
       "</div>"
      ],
      "text/plain": [
       "       child_mort     exports      health     imports         income  \\\n",
       "count  167.000000  167.000000  167.000000  167.000000     167.000000   \n",
       "mean    38.270060   41.108976    6.815689   46.890215   17144.688623   \n",
       "std     40.328931   27.412010    2.746837   24.209589   19278.067698   \n",
       "min      2.600000    0.109000    1.810000    0.065900     609.000000   \n",
       "25%      8.250000   23.800000    4.920000   30.200000    3355.000000   \n",
       "50%     19.300000   35.000000    6.320000   43.300000    9960.000000   \n",
       "75%     62.100000   51.350000    8.600000   58.750000   22800.000000   \n",
       "max    208.000000  200.000000   17.900000  174.000000  125000.000000   \n",
       "\n",
       "        inflation  life_expec   total_fer           gdpp  \n",
       "count  167.000000  167.000000  167.000000     167.000000  \n",
       "mean     7.781832   70.555689    2.947964   12964.155689  \n",
       "std     10.570704    8.893172    1.513848   18328.704809  \n",
       "min     -4.210000   32.100000    1.150000     231.000000  \n",
       "25%      1.810000   65.300000    1.795000    1330.000000  \n",
       "50%      5.390000   73.100000    2.410000    4660.000000  \n",
       "75%     10.750000   76.800000    3.880000   14050.000000  \n",
       "max    104.000000   82.800000    7.490000  105000.000000  "
      ]
     },
     "execution_count": 6,
     "metadata": {},
     "output_type": "execute_result"
    }
   ],
   "source": [
    "country_data.describe()"
   ]
  },
  {
   "cell_type": "markdown",
   "metadata": {},
   "source": [
    "### Step 2: Data Cleaning and Preparation"
   ]
  },
  {
   "cell_type": "code",
   "execution_count": 7,
   "metadata": {},
   "outputs": [
    {
     "name": "stdout",
     "output_type": "stream",
     "text": [
      "country       0.0\n",
      "child_mort    0.0\n",
      "exports       0.0\n",
      "health        0.0\n",
      "imports       0.0\n",
      "income        0.0\n",
      "inflation     0.0\n",
      "life_expec    0.0\n",
      "total_fer     0.0\n",
      "gdpp          0.0\n",
      "dtype: float64\n"
     ]
    }
   ],
   "source": [
    "#checking for percentage of null values in each column\n",
    "percent_missing = round(100*(country_data.isnull().sum()/len(country_data.index)), 2)\n",
    "print(percent_missing)"
   ]
  },
  {
   "cell_type": "markdown",
   "metadata": {},
   "source": [
    "There are no missing value found"
   ]
  },
  {
   "cell_type": "code",
   "execution_count": 8,
   "metadata": {},
   "outputs": [
    {
     "data": {
      "text/html": [
       "<div>\n",
       "<style scoped>\n",
       "    .dataframe tbody tr th:only-of-type {\n",
       "        vertical-align: middle;\n",
       "    }\n",
       "\n",
       "    .dataframe tbody tr th {\n",
       "        vertical-align: top;\n",
       "    }\n",
       "\n",
       "    .dataframe thead th {\n",
       "        text-align: right;\n",
       "    }\n",
       "</style>\n",
       "<table border=\"1\" class=\"dataframe\">\n",
       "  <thead>\n",
       "    <tr style=\"text-align: right;\">\n",
       "      <th></th>\n",
       "      <th>country</th>\n",
       "      <th>child_mort</th>\n",
       "      <th>exports</th>\n",
       "      <th>health</th>\n",
       "      <th>imports</th>\n",
       "      <th>income</th>\n",
       "      <th>inflation</th>\n",
       "      <th>life_expec</th>\n",
       "      <th>total_fer</th>\n",
       "      <th>gdpp</th>\n",
       "    </tr>\n",
       "  </thead>\n",
       "  <tbody>\n",
       "  </tbody>\n",
       "</table>\n",
       "</div>"
      ],
      "text/plain": [
       "Empty DataFrame\n",
       "Columns: [country, child_mort, exports, health, imports, income, inflation, life_expec, total_fer, gdpp]\n",
       "Index: []"
      ]
     },
     "execution_count": 8,
     "metadata": {},
     "output_type": "execute_result"
    }
   ],
   "source": [
    "#Checking for duplicate values in the country_data dataframe\n",
    "country_data[country_data.duplicated(keep=False)] "
   ]
  },
  {
   "cell_type": "markdown",
   "metadata": {},
   "source": [
    "There are no duplicate values in the data"
   ]
  },
  {
   "cell_type": "code",
   "execution_count": 9,
   "metadata": {},
   "outputs": [],
   "source": [
    "#Copying the country data with outlier to another dataframe before outlier treatment. \n",
    "#The country data with outlier may be required in further analysis \n",
    "\n",
    "country_data_with_outlier = country_data"
   ]
  },
  {
   "cell_type": "markdown",
   "metadata": {},
   "source": [
    "#### Outlier Treatment"
   ]
  },
  {
   "cell_type": "code",
   "execution_count": 10,
   "metadata": {},
   "outputs": [
    {
     "data": {
      "text/html": [
       "<div>\n",
       "<style scoped>\n",
       "    .dataframe tbody tr th:only-of-type {\n",
       "        vertical-align: middle;\n",
       "    }\n",
       "\n",
       "    .dataframe tbody tr th {\n",
       "        vertical-align: top;\n",
       "    }\n",
       "\n",
       "    .dataframe thead th {\n",
       "        text-align: right;\n",
       "    }\n",
       "</style>\n",
       "<table border=\"1\" class=\"dataframe\">\n",
       "  <thead>\n",
       "    <tr style=\"text-align: right;\">\n",
       "      <th></th>\n",
       "      <th>child_mort</th>\n",
       "      <th>exports</th>\n",
       "      <th>health</th>\n",
       "      <th>imports</th>\n",
       "      <th>income</th>\n",
       "      <th>inflation</th>\n",
       "      <th>life_expec</th>\n",
       "      <th>total_fer</th>\n",
       "      <th>gdpp</th>\n",
       "    </tr>\n",
       "  </thead>\n",
       "  <tbody>\n",
       "    <tr>\n",
       "      <th>count</th>\n",
       "      <td>167.000000</td>\n",
       "      <td>167.000000</td>\n",
       "      <td>167.000000</td>\n",
       "      <td>167.000000</td>\n",
       "      <td>167.000000</td>\n",
       "      <td>167.000000</td>\n",
       "      <td>167.000000</td>\n",
       "      <td>167.000000</td>\n",
       "      <td>167.000000</td>\n",
       "    </tr>\n",
       "    <tr>\n",
       "      <th>mean</th>\n",
       "      <td>38.270060</td>\n",
       "      <td>41.108976</td>\n",
       "      <td>6.815689</td>\n",
       "      <td>46.890215</td>\n",
       "      <td>17144.688623</td>\n",
       "      <td>7.781832</td>\n",
       "      <td>70.555689</td>\n",
       "      <td>2.947964</td>\n",
       "      <td>12964.155689</td>\n",
       "    </tr>\n",
       "    <tr>\n",
       "      <th>std</th>\n",
       "      <td>40.328931</td>\n",
       "      <td>27.412010</td>\n",
       "      <td>2.746837</td>\n",
       "      <td>24.209589</td>\n",
       "      <td>19278.067698</td>\n",
       "      <td>10.570704</td>\n",
       "      <td>8.893172</td>\n",
       "      <td>1.513848</td>\n",
       "      <td>18328.704809</td>\n",
       "    </tr>\n",
       "    <tr>\n",
       "      <th>min</th>\n",
       "      <td>2.600000</td>\n",
       "      <td>0.109000</td>\n",
       "      <td>1.810000</td>\n",
       "      <td>0.065900</td>\n",
       "      <td>609.000000</td>\n",
       "      <td>-4.210000</td>\n",
       "      <td>32.100000</td>\n",
       "      <td>1.150000</td>\n",
       "      <td>231.000000</td>\n",
       "    </tr>\n",
       "    <tr>\n",
       "      <th>25%</th>\n",
       "      <td>8.250000</td>\n",
       "      <td>23.800000</td>\n",
       "      <td>4.920000</td>\n",
       "      <td>30.200000</td>\n",
       "      <td>3355.000000</td>\n",
       "      <td>1.810000</td>\n",
       "      <td>65.300000</td>\n",
       "      <td>1.795000</td>\n",
       "      <td>1330.000000</td>\n",
       "    </tr>\n",
       "    <tr>\n",
       "      <th>50%</th>\n",
       "      <td>19.300000</td>\n",
       "      <td>35.000000</td>\n",
       "      <td>6.320000</td>\n",
       "      <td>43.300000</td>\n",
       "      <td>9960.000000</td>\n",
       "      <td>5.390000</td>\n",
       "      <td>73.100000</td>\n",
       "      <td>2.410000</td>\n",
       "      <td>4660.000000</td>\n",
       "    </tr>\n",
       "    <tr>\n",
       "      <th>75%</th>\n",
       "      <td>62.100000</td>\n",
       "      <td>51.350000</td>\n",
       "      <td>8.600000</td>\n",
       "      <td>58.750000</td>\n",
       "      <td>22800.000000</td>\n",
       "      <td>10.750000</td>\n",
       "      <td>76.800000</td>\n",
       "      <td>3.880000</td>\n",
       "      <td>14050.000000</td>\n",
       "    </tr>\n",
       "    <tr>\n",
       "      <th>99%</th>\n",
       "      <td>153.400000</td>\n",
       "      <td>160.480000</td>\n",
       "      <td>13.474000</td>\n",
       "      <td>146.080000</td>\n",
       "      <td>84374.000000</td>\n",
       "      <td>41.478000</td>\n",
       "      <td>82.370000</td>\n",
       "      <td>6.563600</td>\n",
       "      <td>79088.000000</td>\n",
       "    </tr>\n",
       "    <tr>\n",
       "      <th>max</th>\n",
       "      <td>208.000000</td>\n",
       "      <td>200.000000</td>\n",
       "      <td>17.900000</td>\n",
       "      <td>174.000000</td>\n",
       "      <td>125000.000000</td>\n",
       "      <td>104.000000</td>\n",
       "      <td>82.800000</td>\n",
       "      <td>7.490000</td>\n",
       "      <td>105000.000000</td>\n",
       "    </tr>\n",
       "  </tbody>\n",
       "</table>\n",
       "</div>"
      ],
      "text/plain": [
       "       child_mort     exports      health     imports         income  \\\n",
       "count  167.000000  167.000000  167.000000  167.000000     167.000000   \n",
       "mean    38.270060   41.108976    6.815689   46.890215   17144.688623   \n",
       "std     40.328931   27.412010    2.746837   24.209589   19278.067698   \n",
       "min      2.600000    0.109000    1.810000    0.065900     609.000000   \n",
       "25%      8.250000   23.800000    4.920000   30.200000    3355.000000   \n",
       "50%     19.300000   35.000000    6.320000   43.300000    9960.000000   \n",
       "75%     62.100000   51.350000    8.600000   58.750000   22800.000000   \n",
       "99%    153.400000  160.480000   13.474000  146.080000   84374.000000   \n",
       "max    208.000000  200.000000   17.900000  174.000000  125000.000000   \n",
       "\n",
       "        inflation  life_expec   total_fer           gdpp  \n",
       "count  167.000000  167.000000  167.000000     167.000000  \n",
       "mean     7.781832   70.555689    2.947964   12964.155689  \n",
       "std     10.570704    8.893172    1.513848   18328.704809  \n",
       "min     -4.210000   32.100000    1.150000     231.000000  \n",
       "25%      1.810000   65.300000    1.795000    1330.000000  \n",
       "50%      5.390000   73.100000    2.410000    4660.000000  \n",
       "75%     10.750000   76.800000    3.880000   14050.000000  \n",
       "99%     41.478000   82.370000    6.563600   79088.000000  \n",
       "max    104.000000   82.800000    7.490000  105000.000000  "
      ]
     },
     "execution_count": 10,
     "metadata": {},
     "output_type": "execute_result"
    }
   ],
   "source": [
    "#Checking outliers at 25%,50%,75%,99% and above\n",
    "country_data.describe(percentiles=[.25,.5,.75,.99])"
   ]
  },
  {
   "cell_type": "markdown",
   "metadata": {},
   "source": [
    "From the above table it can be deduced that the following fields have outliers :\n",
    "* `child_mort`\n",
    "* `inflation`\n",
    "* `gdpp`\n",
    "* `exports`\n",
    "* `income`"
   ]
  },
  {
   "cell_type": "code",
   "execution_count": 11,
   "metadata": {},
   "outputs": [
    {
     "data": {
      "image/png": "[encoded data removed]",
      "text/plain": [
       "<Figure size 1440x1800 with 5 Axes>"
      ]
     },
     "metadata": {
      "needs_background": "light"
     },
     "output_type": "display_data"
    }
   ],
   "source": [
    "#Analysing these outliers using boxplot\n",
    "plt.figure(figsize=(20, 25))\n",
    "plt.subplot(4,3,1)\n",
    "sns.boxplot(y = 'child_mort', palette='Set3', data = country_data)\n",
    "plt.subplot(4,3,2)\n",
    "sns.boxplot(y = 'inflation', palette='Set3', data = country_data)\n",
    "plt.subplot(4,3,3)\n",
    "sns.boxplot(y = 'gdpp', palette='Set3', data = country_data)\n",
    "plt.subplot(4,3,4)\n",
    "sns.boxplot(y = 'income', palette='Set3', data = country_data)\n",
    "plt.subplot(4,3,5)\n",
    "sns.boxplot(y = 'exports', palette='Set3', data = country_data)\n",
    "plt.show()"
   ]
  },
  {
   "cell_type": "code",
   "execution_count": 12,
   "metadata": {},
   "outputs": [
    {
     "data": {
      "text/plain": [
       "count    165.000000\n",
       "mean      36.503636\n",
       "std       37.109339\n",
       "min        2.600000\n",
       "25%        7.900000\n",
       "50%       19.200000\n",
       "75%       58.800000\n",
       "90%       95.880000\n",
       "95%      113.400000\n",
       "99%      141.320000\n",
       "max      150.000000\n",
       "Name: child_mort, dtype: float64"
      ]
     },
     "execution_count": 12,
     "metadata": {},
     "output_type": "execute_result"
    }
   ],
   "source": [
    "#Removing values beyond 99% for child mortality \n",
    "nn_quartile_child_mort = country_data['child_mort'].quantile(0.99)\n",
    "country_data = country_data[country_data[\"child_mort\"] < nn_quartile_child_mort]\n",
    "country_data[\"child_mort\"].describe(percentiles=[.25,.5,.75,.90,.95,.99]) "
   ]
  },
  {
   "cell_type": "code",
   "execution_count": 13,
   "metadata": {},
   "outputs": [
    {
     "data": {
      "text/plain": [
       "count    161.000000\n",
       "mean       6.592025\n",
       "std        6.214069\n",
       "min       -4.210000\n",
       "25%        1.740000\n",
       "50%        4.490000\n",
       "75%        9.810000\n",
       "90%       16.100000\n",
       "95%       19.500000\n",
       "99%       23.120000\n",
       "max       24.900000\n",
       "Name: inflation, dtype: float64"
      ]
     },
     "execution_count": 13,
     "metadata": {},
     "output_type": "execute_result"
    }
   ],
   "source": [
    "#Removing values beyond 98% for inflation \n",
    "nn_quartile_inflation = country_data['inflation'].quantile(0.98)\n",
    "country_data = country_data[country_data[\"inflation\"] < nn_quartile_inflation]\n",
    "country_data[\"inflation\"].describe(percentiles=[.25,.5,.75,.90,.95,.99]) "
   ]
  },
  {
   "cell_type": "code",
   "execution_count": 14,
   "metadata": {},
   "outputs": [
    {
     "data": {
      "text/plain": [
       "count    157.000000\n",
       "mean      38.849675\n",
       "std       19.806705\n",
       "min        0.109000\n",
       "25%       23.800000\n",
       "50%       35.000000\n",
       "75%       51.200000\n",
       "90%       66.980000\n",
       "95%       76.320000\n",
       "99%       86.284000\n",
       "max       93.800000\n",
       "Name: exports, dtype: float64"
      ]
     },
     "execution_count": 14,
     "metadata": {},
     "output_type": "execute_result"
    }
   ],
   "source": [
    "#Removing values beyond 98% for exports\n",
    "nn_quartile_exports = country_data['exports'].quantile(0.98)\n",
    "country_data = country_data[country_data[\"exports\"] < nn_quartile_exports]\n",
    "country_data[\"exports\"].describe(percentiles=[.25,.5,.75,.90,.95,.99]) "
   ]
  },
  {
   "cell_type": "code",
   "execution_count": 15,
   "metadata": {},
   "outputs": [
    {
     "data": {
      "text/plain": [
       "count      155.000000\n",
       "mean     15392.470968\n",
       "std      15091.418791\n",
       "min        609.000000\n",
       "25%       3355.000000\n",
       "50%       9940.000000\n",
       "75%      21450.000000\n",
       "90%      40160.000000\n",
       "95%      44390.000000\n",
       "99%      59762.000000\n",
       "max      75200.000000\n",
       "Name: income, dtype: float64"
      ]
     },
     "execution_count": 15,
     "metadata": {},
     "output_type": "execute_result"
    }
   ],
   "source": [
    "#Removing values beyond 99% for income\n",
    "nn_quantile_income = country_data['income'].quantile(0.99)\n",
    "country_data = country_data[country_data[\"income\"] < nn_quantile_income]\n",
    "country_data[\"income\"].describe(percentiles=[.25,.5,.75,.90,.95,.99]) "
   ]
  },
  {
   "cell_type": "code",
   "execution_count": 16,
   "metadata": {},
   "outputs": [
    {
     "data": {
      "text/html": [
       "<div>\n",
       "<style scoped>\n",
       "    .dataframe tbody tr th:only-of-type {\n",
       "        vertical-align: middle;\n",
       "    }\n",
       "\n",
       "    .dataframe tbody tr th {\n",
       "        vertical-align: top;\n",
       "    }\n",
       "\n",
       "    .dataframe thead th {\n",
       "        text-align: right;\n",
       "    }\n",
       "</style>\n",
       "<table border=\"1\" class=\"dataframe\">\n",
       "  <thead>\n",
       "    <tr style=\"text-align: right;\">\n",
       "      <th></th>\n",
       "      <th>child_mort</th>\n",
       "      <th>exports</th>\n",
       "      <th>health</th>\n",
       "      <th>imports</th>\n",
       "      <th>income</th>\n",
       "      <th>inflation</th>\n",
       "      <th>life_expec</th>\n",
       "      <th>total_fer</th>\n",
       "      <th>gdpp</th>\n",
       "    </tr>\n",
       "  </thead>\n",
       "  <tbody>\n",
       "    <tr>\n",
       "      <th>count</th>\n",
       "      <td>155.000000</td>\n",
       "      <td>155.000000</td>\n",
       "      <td>155.000000</td>\n",
       "      <td>155.000000</td>\n",
       "      <td>155.000000</td>\n",
       "      <td>155.000000</td>\n",
       "      <td>155.000000</td>\n",
       "      <td>155.000000</td>\n",
       "      <td>155.000000</td>\n",
       "    </tr>\n",
       "    <tr>\n",
       "      <th>mean</th>\n",
       "      <td>37.104516</td>\n",
       "      <td>38.514187</td>\n",
       "      <td>6.835161</td>\n",
       "      <td>45.184941</td>\n",
       "      <td>15392.470968</td>\n",
       "      <td>6.667432</td>\n",
       "      <td>70.588387</td>\n",
       "      <td>2.945161</td>\n",
       "      <td>11708.858065</td>\n",
       "    </tr>\n",
       "    <tr>\n",
       "      <th>std</th>\n",
       "      <td>36.949533</td>\n",
       "      <td>19.708457</td>\n",
       "      <td>2.720911</td>\n",
       "      <td>18.906707</td>\n",
       "      <td>15091.418791</td>\n",
       "      <td>6.199257</td>\n",
       "      <td>8.330136</td>\n",
       "      <td>1.497734</td>\n",
       "      <td>16151.447418</td>\n",
       "    </tr>\n",
       "    <tr>\n",
       "      <th>min</th>\n",
       "      <td>2.600000</td>\n",
       "      <td>0.109000</td>\n",
       "      <td>1.970000</td>\n",
       "      <td>0.065900</td>\n",
       "      <td>609.000000</td>\n",
       "      <td>-4.210000</td>\n",
       "      <td>46.500000</td>\n",
       "      <td>1.230000</td>\n",
       "      <td>231.000000</td>\n",
       "    </tr>\n",
       "    <tr>\n",
       "      <th>25%</th>\n",
       "      <td>8.600000</td>\n",
       "      <td>23.800000</td>\n",
       "      <td>4.950000</td>\n",
       "      <td>30.750000</td>\n",
       "      <td>3355.000000</td>\n",
       "      <td>1.755000</td>\n",
       "      <td>65.300000</td>\n",
       "      <td>1.795000</td>\n",
       "      <td>1310.000000</td>\n",
       "    </tr>\n",
       "    <tr>\n",
       "      <th>50%</th>\n",
       "      <td>19.700000</td>\n",
       "      <td>35.000000</td>\n",
       "      <td>6.320000</td>\n",
       "      <td>43.300000</td>\n",
       "      <td>9940.000000</td>\n",
       "      <td>4.910000</td>\n",
       "      <td>73.100000</td>\n",
       "      <td>2.410000</td>\n",
       "      <td>4610.000000</td>\n",
       "    </tr>\n",
       "    <tr>\n",
       "      <th>75%</th>\n",
       "      <td>60.400000</td>\n",
       "      <td>50.650000</td>\n",
       "      <td>8.525000</td>\n",
       "      <td>57.800000</td>\n",
       "      <td>21450.000000</td>\n",
       "      <td>9.905000</td>\n",
       "      <td>76.650000</td>\n",
       "      <td>3.880000</td>\n",
       "      <td>12750.000000</td>\n",
       "    </tr>\n",
       "    <tr>\n",
       "      <th>99%</th>\n",
       "      <td>142.520000</td>\n",
       "      <td>86.306000</td>\n",
       "      <td>12.958000</td>\n",
       "      <td>96.464000</td>\n",
       "      <td>59762.000000</td>\n",
       "      <td>23.168000</td>\n",
       "      <td>82.092000</td>\n",
       "      <td>6.568400</td>\n",
       "      <td>65636.000000</td>\n",
       "    </tr>\n",
       "    <tr>\n",
       "      <th>max</th>\n",
       "      <td>150.000000</td>\n",
       "      <td>93.800000</td>\n",
       "      <td>17.900000</td>\n",
       "      <td>108.000000</td>\n",
       "      <td>75200.000000</td>\n",
       "      <td>24.900000</td>\n",
       "      <td>82.800000</td>\n",
       "      <td>7.490000</td>\n",
       "      <td>87800.000000</td>\n",
       "    </tr>\n",
       "  </tbody>\n",
       "</table>\n",
       "</div>"
      ],
      "text/plain": [
       "       child_mort     exports      health     imports        income  \\\n",
       "count  155.000000  155.000000  155.000000  155.000000    155.000000   \n",
       "mean    37.104516   38.514187    6.835161   45.184941  15392.470968   \n",
       "std     36.949533   19.708457    2.720911   18.906707  15091.418791   \n",
       "min      2.600000    0.109000    1.970000    0.065900    609.000000   \n",
       "25%      8.600000   23.800000    4.950000   30.750000   3355.000000   \n",
       "50%     19.700000   35.000000    6.320000   43.300000   9940.000000   \n",
       "75%     60.400000   50.650000    8.525000   57.800000  21450.000000   \n",
       "99%    142.520000   86.306000   12.958000   96.464000  59762.000000   \n",
       "max    150.000000   93.800000   17.900000  108.000000  75200.000000   \n",
       "\n",
       "        inflation  life_expec   total_fer          gdpp  \n",
       "count  155.000000  155.000000  155.000000    155.000000  \n",
       "mean     6.667432   70.588387    2.945161  11708.858065  \n",
       "std      6.199257    8.330136    1.497734  16151.447418  \n",
       "min     -4.210000   46.500000    1.230000    231.000000  \n",
       "25%      1.755000   65.300000    1.795000   1310.000000  \n",
       "50%      4.910000   73.100000    2.410000   4610.000000  \n",
       "75%      9.905000   76.650000    3.880000  12750.000000  \n",
       "99%     23.168000   82.092000    6.568400  65636.000000  \n",
       "max     24.900000   82.800000    7.490000  87800.000000  "
      ]
     },
     "execution_count": 16,
     "metadata": {},
     "output_type": "execute_result"
    }
   ],
   "source": [
    "#Inspecting the outlier values after removing outliers\n",
    "country_data.describe(percentiles=[.25,.5,.75,.99])"
   ]
  },
  {
   "cell_type": "code",
   "execution_count": 17,
   "metadata": {},
   "outputs": [
    {
     "name": "stdout",
     "output_type": "stream",
     "text": [
      "(155, 10)\n"
     ]
    }
   ],
   "source": [
    "#The above data seems to be ok.\n",
    "print(country_data.shape)"
   ]
  },
  {
   "cell_type": "code",
   "execution_count": 18,
   "metadata": {},
   "outputs": [
    {
     "name": "stdout",
     "output_type": "stream",
     "text": [
      "92.81\n"
     ]
    }
   ],
   "source": [
    "#Determining the percentage of data retained\n",
    "num_data = round(100*(len(country_data)/167),2)\n",
    "print(num_data)"
   ]
  },
  {
   "cell_type": "code",
   "execution_count": 19,
   "metadata": {},
   "outputs": [],
   "source": [
    "#Removing the country column as it is not a continuous variable\n",
    "df_without_country = country_data.drop(['country'], 1)"
   ]
  },
  {
   "cell_type": "markdown",
   "metadata": {},
   "source": [
    "#### Scaling the data"
   ]
  },
  {
   "cell_type": "code",
   "execution_count": 20,
   "metadata": {},
   "outputs": [],
   "source": [
    "from sklearn.preprocessing import StandardScaler\n",
    "standard_scaler = StandardScaler()\n",
    "country_data_normalized = standard_scaler.fit_transform(df_without_country)"
   ]
  },
  {
   "cell_type": "code",
   "execution_count": 21,
   "metadata": {},
   "outputs": [
    {
     "data": {
      "text/html": [
       "<div>\n",
       "<style scoped>\n",
       "    .dataframe tbody tr th:only-of-type {\n",
       "        vertical-align: middle;\n",
       "    }\n",
       "\n",
       "    .dataframe tbody tr th {\n",
       "        vertical-align: top;\n",
       "    }\n",
       "\n",
       "    .dataframe thead th {\n",
       "        text-align: right;\n",
       "    }\n",
       "</style>\n",
       "<table border=\"1\" class=\"dataframe\">\n",
       "  <thead>\n",
       "    <tr style=\"text-align: right;\">\n",
       "      <th></th>\n",
       "      <th>child_mort</th>\n",
       "      <th>exports</th>\n",
       "      <th>health</th>\n",
       "      <th>imports</th>\n",
       "      <th>income</th>\n",
       "      <th>inflation</th>\n",
       "      <th>life_expec</th>\n",
       "      <th>total_fer</th>\n",
       "      <th>gdpp</th>\n",
       "    </tr>\n",
       "  </thead>\n",
       "  <tbody>\n",
       "    <tr>\n",
       "      <th>0</th>\n",
       "      <td>1.441631</td>\n",
       "      <td>-1.451489</td>\n",
       "      <td>0.274633</td>\n",
       "      <td>-0.015120</td>\n",
       "      <td>-0.916226</td>\n",
       "      <td>0.448692</td>\n",
       "      <td>-1.732868</td>\n",
       "      <td>1.925680</td>\n",
       "      <td>-0.692942</td>\n",
       "    </tr>\n",
       "    <tr>\n",
       "      <th>1</th>\n",
       "      <td>-0.556732</td>\n",
       "      <td>-0.535215</td>\n",
       "      <td>-0.105143</td>\n",
       "      <td>0.181212</td>\n",
       "      <td>-0.363132</td>\n",
       "      <td>-0.352379</td>\n",
       "      <td>0.687879</td>\n",
       "      <td>-0.867550</td>\n",
       "      <td>-0.473243</td>\n",
       "    </tr>\n",
       "    <tr>\n",
       "      <th>2</th>\n",
       "      <td>-0.266209</td>\n",
       "      <td>-0.005813</td>\n",
       "      <td>-0.982686</td>\n",
       "      <td>-0.731467</td>\n",
       "      <td>-0.165694</td>\n",
       "      <td>1.526496</td>\n",
       "      <td>0.711966</td>\n",
       "      <td>-0.036949</td>\n",
       "      <td>-0.450260</td>\n",
       "    </tr>\n",
       "    <tr>\n",
       "      <th>3</th>\n",
       "      <td>2.223599</td>\n",
       "      <td>1.210796</td>\n",
       "      <td>-1.469390</td>\n",
       "      <td>-0.121245</td>\n",
       "      <td>-0.631037</td>\n",
       "      <td>2.546042</td>\n",
       "      <td>-1.263171</td>\n",
       "      <td>2.153426</td>\n",
       "      <td>-0.508027</td>\n",
       "    </tr>\n",
       "    <tr>\n",
       "      <th>4</th>\n",
       "      <td>-0.727787</td>\n",
       "      <td>0.355607</td>\n",
       "      <td>-0.296875</td>\n",
       "      <td>0.727758</td>\n",
       "      <td>0.246468</td>\n",
       "      <td>-0.845969</td>\n",
       "      <td>0.748097</td>\n",
       "      <td>-0.546027</td>\n",
       "      <td>0.030507</td>\n",
       "    </tr>\n",
       "  </tbody>\n",
       "</table>\n",
       "</div>"
      ],
      "text/plain": [
       "   child_mort   exports    health   imports    income  inflation  life_expec  \\\n",
       "0    1.441631 -1.451489  0.274633 -0.015120 -0.916226   0.448692   -1.732868   \n",
       "1   -0.556732 -0.535215 -0.105143  0.181212 -0.363132  -0.352379    0.687879   \n",
       "2   -0.266209 -0.005813 -0.982686 -0.731467 -0.165694   1.526496    0.711966   \n",
       "3    2.223599  1.210796 -1.469390 -0.121245 -0.631037   2.546042   -1.263171   \n",
       "4   -0.727787  0.355607 -0.296875  0.727758  0.246468  -0.845969    0.748097   \n",
       "\n",
       "   total_fer      gdpp  \n",
       "0   1.925680 -0.692942  \n",
       "1  -0.867550 -0.473243  \n",
       "2  -0.036949 -0.450260  \n",
       "3   2.153426 -0.508027  \n",
       "4  -0.546027  0.030507  "
      ]
     },
     "execution_count": 21,
     "metadata": {},
     "output_type": "execute_result"
    }
   ],
   "source": [
    "#Creating dataframe with the normalized data\n",
    "country_data_normalized = pd.DataFrame(country_data_normalized)\n",
    "country_data_normalized.columns = ['child_mort','exports','health','imports','income','inflation','life_expec','total_fer','gdpp']\n",
    "country_data_normalized.head()"
   ]
  },
  {
   "cell_type": "markdown",
   "metadata": {},
   "source": [
    "### Step 3: Principle Component Analysis"
   ]
  },
  {
   "cell_type": "code",
   "execution_count": 22,
   "metadata": {},
   "outputs": [],
   "source": [
    "#Importing the PCA module\n",
    "from sklearn.decomposition import PCA\n",
    "pca = PCA(svd_solver='randomized', random_state=42)"
   ]
  },
  {
   "cell_type": "code",
   "execution_count": 23,
   "metadata": {},
   "outputs": [
    {
     "data": {
      "text/plain": [
       "PCA(copy=True, iterated_power='auto', n_components=None, random_state=42,\n",
       "  svd_solver='randomized', tol=0.0, whiten=False)"
      ]
     },
     "execution_count": 23,
     "metadata": {},
     "output_type": "execute_result"
    }
   ],
   "source": [
    "#Applying PCA on the dataset\n",
    "pca.fit(country_data_normalized)"
   ]
  },
  {
   "cell_type": "code",
   "execution_count": 24,
   "metadata": {},
   "outputs": [
    {
     "data": {
      "text/plain": [
       "array([[-0.42945856,  0.17809252,  0.2311623 ,  0.04017807,  0.40829733,\n",
       "        -0.22053821,  0.43662843, -0.41126408,  0.39200991],\n",
       "       [-0.03823837,  0.63748588, -0.18492183,  0.70871797, -0.0926923 ,\n",
       "        -0.04718509, -0.0712562 , -0.04605509, -0.1940503 ],\n",
       "       [-0.12144612,  0.25931632, -0.59656691, -0.32051534,  0.19921145,\n",
       "         0.6210116 ,  0.15188714, -0.10470033, -0.00335539],\n",
       "       [ 0.37284123,  0.28766354,  0.23261435,  0.03356094,  0.43979788,\n",
       "         0.186153  , -0.23749558,  0.43217413,  0.50174654],\n",
       "       [-0.19300329, -0.07440133,  0.60990278,  0.1969369 , -0.13414891,\n",
       "         0.70192596,  0.00832616, -0.113384  , -0.15108734],\n",
       "       [ 0.06307349,  0.48161754,  0.26503585, -0.50080339, -0.05125252,\n",
       "        -0.13205744, -0.46819838, -0.41140937, -0.185701  ],\n",
       "       [-0.00238593, -0.40147095, -0.22900789,  0.3083485 ,  0.24047645,\n",
       "         0.09026778, -0.58183765, -0.4887754 ,  0.21881118],\n",
       "       [ 0.75726853,  0.00522357,  0.0201105 ,  0.06827816, -0.18233985,\n",
       "         0.08634315,  0.39283391, -0.45810558,  0.12871899],\n",
       "       [ 0.21366695, -0.11490134,  0.08539282,  0.0540302 ,  0.69274422,\n",
       "        -0.05554719,  0.11256882, -0.01133278, -0.65966105]])"
      ]
     },
     "execution_count": 24,
     "metadata": {},
     "output_type": "execute_result"
    }
   ],
   "source": [
    "#Listing PCA components\n",
    "pca.components_"
   ]
  },
  {
   "cell_type": "code",
   "execution_count": 25,
   "metadata": {},
   "outputs": [
    {
     "data": {
      "text/html": [
       "<div>\n",
       "<style scoped>\n",
       "    .dataframe tbody tr th:only-of-type {\n",
       "        vertical-align: middle;\n",
       "    }\n",
       "\n",
       "    .dataframe tbody tr th {\n",
       "        vertical-align: top;\n",
       "    }\n",
       "\n",
       "    .dataframe thead th {\n",
       "        text-align: right;\n",
       "    }\n",
       "</style>\n",
       "<table border=\"1\" class=\"dataframe\">\n",
       "  <thead>\n",
       "    <tr style=\"text-align: right;\">\n",
       "      <th></th>\n",
       "      <th>PC1</th>\n",
       "      <th>PC2</th>\n",
       "      <th>Feature</th>\n",
       "    </tr>\n",
       "  </thead>\n",
       "  <tbody>\n",
       "    <tr>\n",
       "      <th>0</th>\n",
       "      <td>-0.429459</td>\n",
       "      <td>-0.038238</td>\n",
       "      <td>child_mort</td>\n",
       "    </tr>\n",
       "    <tr>\n",
       "      <th>1</th>\n",
       "      <td>0.178093</td>\n",
       "      <td>0.637486</td>\n",
       "      <td>exports</td>\n",
       "    </tr>\n",
       "    <tr>\n",
       "      <th>2</th>\n",
       "      <td>0.231162</td>\n",
       "      <td>-0.184922</td>\n",
       "      <td>health</td>\n",
       "    </tr>\n",
       "    <tr>\n",
       "      <th>3</th>\n",
       "      <td>0.040178</td>\n",
       "      <td>0.708718</td>\n",
       "      <td>imports</td>\n",
       "    </tr>\n",
       "    <tr>\n",
       "      <th>4</th>\n",
       "      <td>0.408297</td>\n",
       "      <td>-0.092692</td>\n",
       "      <td>income</td>\n",
       "    </tr>\n",
       "    <tr>\n",
       "      <th>5</th>\n",
       "      <td>-0.220538</td>\n",
       "      <td>-0.047185</td>\n",
       "      <td>inflation</td>\n",
       "    </tr>\n",
       "    <tr>\n",
       "      <th>6</th>\n",
       "      <td>0.436628</td>\n",
       "      <td>-0.071256</td>\n",
       "      <td>life_expec</td>\n",
       "    </tr>\n",
       "    <tr>\n",
       "      <th>7</th>\n",
       "      <td>-0.411264</td>\n",
       "      <td>-0.046055</td>\n",
       "      <td>total_fer</td>\n",
       "    </tr>\n",
       "    <tr>\n",
       "      <th>8</th>\n",
       "      <td>0.392010</td>\n",
       "      <td>-0.194050</td>\n",
       "      <td>gdpp</td>\n",
       "    </tr>\n",
       "  </tbody>\n",
       "</table>\n",
       "</div>"
      ],
      "text/plain": [
       "        PC1       PC2     Feature\n",
       "0 -0.429459 -0.038238  child_mort\n",
       "1  0.178093  0.637486     exports\n",
       "2  0.231162 -0.184922      health\n",
       "3  0.040178  0.708718     imports\n",
       "4  0.408297 -0.092692      income\n",
       "5 -0.220538 -0.047185   inflation\n",
       "6  0.436628 -0.071256  life_expec\n",
       "7 -0.411264 -0.046055   total_fer\n",
       "8  0.392010 -0.194050        gdpp"
      ]
     },
     "execution_count": 25,
     "metadata": {},
     "output_type": "execute_result"
    }
   ],
   "source": [
    "#The first 2 Principle Components :\n",
    "colnames = list(country_data_normalized.columns)\n",
    "pcs_df = pd.DataFrame({'PC1':pca.components_[0],'PC2':pca.components_[1], 'Feature':colnames})\n",
    "pcs_df.head(9)"
   ]
  },
  {
   "cell_type": "markdown",
   "metadata": {},
   "source": [
    "Plot original features on the first 2 principal components as axes and analyse them"
   ]
  },
  {
   "cell_type": "code",
   "execution_count": 26,
   "metadata": {
    "scrolled": true
   },
   "outputs": [
    {
     "data": {
      "image/png": "[encoded data removed]",
      "text/plain": [
       "<Figure size 720x576 with 1 Axes>"
      ]
     },
     "metadata": {
      "needs_background": "light"
     },
     "output_type": "display_data"
    }
   ],
   "source": [
    "#scatterplot using the first 2 components for all features\n",
    "fig = plt.figure(figsize = (10,8))\n",
    "plt.scatter(pcs_df.PC1, pcs_df.PC2)\n",
    "plt.xlabel('Principal Component 1')\n",
    "plt.ylabel('Principal Component 2')\n",
    "for i, txt in enumerate(pcs_df.Feature):\n",
    "    plt.annotate(txt, (pcs_df.PC1[i],pcs_df.PC2[i]))\n",
    "plt.tight_layout()\n",
    "plt.show()"
   ]
  },
  {
   "cell_type": "markdown",
   "metadata": {},
   "source": [
    "Based on the above scatter plot, \n",
    " - Principle Component 2 defines more of imports and exports\n",
    " - Principle component 1 defines more of the rest of the components"
   ]
  },
  {
   "cell_type": "code",
   "execution_count": 27,
   "metadata": {},
   "outputs": [
    {
     "data": {
      "text/plain": [
       "array([0.47, 0.17, 0.14, 0.11, 0.06, 0.02, 0.02, 0.01, 0.01])"
      ]
     },
     "execution_count": 27,
     "metadata": {},
     "output_type": "execute_result"
    }
   ],
   "source": [
    "#Principal Components capture maximum variance and are ordered\n",
    "#Hence first let us see what is the variance given by the PCs\n",
    "\n",
    "pca.explained_variance_ratio_.round(2)"
   ]
  },
  {
   "cell_type": "code",
   "execution_count": 28,
   "metadata": {},
   "outputs": [
    {
     "data": {
      "text/plain": [
       "child_mort    0.47\n",
       "exports       0.17\n",
       "health        0.14\n",
       "imports       0.11\n",
       "income        0.06\n",
       "inflation     0.02\n",
       "life_expec    0.02\n",
       "total_fer     0.01\n",
       "gdpp          0.01\n",
       "dtype: float64"
      ]
     },
     "execution_count": 28,
     "metadata": {},
     "output_type": "execute_result"
    }
   ],
   "source": [
    "#Display the variance of each variable\n",
    "\n",
    "pca_df = pca.fit_transform(country_data_normalized)\n",
    "df_verify = pd.DataFrame(pca_df, columns = colnames)\n",
    "round(np.var(df_verify)/sum(np.var(df_verify)),2)"
   ]
  },
  {
   "cell_type": "code",
   "execution_count": 29,
   "metadata": {},
   "outputs": [
    {
     "data": {
      "image/png": "[encoded data removed]",
      "text/plain": [
       "<Figure size 720x360 with 1 Axes>"
      ]
     },
     "metadata": {
      "needs_background": "light"
     },
     "output_type": "display_data"
    }
   ],
   "source": [
    "#Making the screeplot - plotting the cumulative variance against the number of components\n",
    "fig = plt.figure(figsize = (10,5))\n",
    "plt.plot(np.cumsum(pca.explained_variance_ratio_))\n",
    "plt.xlabel('number of components')\n",
    "plt.ylabel('cumulative explained variance')\n",
    "plt.show()"
   ]
  },
  {
   "cell_type": "markdown",
   "metadata": {},
   "source": [
    "Based on the screeplot above, an approximate of 5 components can be used to define 95% variance. Hence we will go ahead with 5 components"
   ]
  },
  {
   "cell_type": "code",
   "execution_count": 30,
   "metadata": {},
   "outputs": [],
   "source": [
    "#Using incremental PCA for efficiency\n",
    "from sklearn.decomposition import IncrementalPCA\n",
    "\n",
    "pca_final = IncrementalPCA(n_components=5)"
   ]
  },
  {
   "cell_type": "code",
   "execution_count": 31,
   "metadata": {},
   "outputs": [
    {
     "data": {
      "text/plain": [
       "(155, 5)"
      ]
     },
     "execution_count": 31,
     "metadata": {},
     "output_type": "execute_result"
    }
   ],
   "source": [
    "#Basis transformation - getting the data onto our principle components\n",
    "\n",
    "country_data_pca = pca_final.fit_transform(country_data_normalized)\n",
    "country_data_pca.shape"
   ]
  },
  {
   "cell_type": "code",
   "execution_count": 32,
   "metadata": {},
   "outputs": [
    {
     "data": {
      "text/plain": [
       "(5, 155)"
      ]
     },
     "execution_count": 32,
     "metadata": {},
     "output_type": "execute_result"
    }
   ],
   "source": [
    "#Creating a transpose so that the each column is properly arranged\n",
    "\n",
    "pc = np.transpose(country_data_pca)\n",
    "pc.shape"
   ]
  },
  {
   "cell_type": "code",
   "execution_count": 33,
   "metadata": {},
   "outputs": [],
   "source": [
    "#Creating correlation matrix for the principal components. There should be little or no correlation\n",
    "\n",
    "corrmat = np.corrcoef(pc)"
   ]
  },
  {
   "cell_type": "code",
   "execution_count": 34,
   "metadata": {},
   "outputs": [
    {
     "data": {
      "image/png": "[encoded data removed]",
      "text/plain": [
       "<Figure size 720x360 with 2 Axes>"
      ]
     },
     "metadata": {
      "needs_background": "light"
     },
     "output_type": "display_data"
    }
   ],
   "source": [
    "#plotting the correlation matrix\n",
    "plt.figure(figsize = (10,5))\n",
    "sns.heatmap(corrmat,annot = True)\n",
    "plt.show()"
   ]
  },
  {
   "cell_type": "code",
   "execution_count": 35,
   "metadata": {},
   "outputs": [
    {
     "name": "stdout",
     "output_type": "stream",
     "text": [
      "max corr: 0.00026925464789896513 , min corr:  -0.00013525798947605058\n"
     ]
    }
   ],
   "source": [
    "#Checking the max and min correlation\n",
    "\n",
    "corrmat_nodiag = corrmat - np.diagflat(corrmat.diagonal())\n",
    "print(\"max corr:\",corrmat_nodiag.max(), \", min corr: \", corrmat_nodiag.min(),)"
   ]
  },
  {
   "cell_type": "markdown",
   "metadata": {},
   "source": [
    "From the above, since the max and min correelations are very close to 0, it can be inferred that there is no correlation \n",
    "between the principle components."
   ]
  },
  {
   "cell_type": "code",
   "execution_count": 36,
   "metadata": {},
   "outputs": [
    {
     "data": {
      "text/html": [
       "<div>\n",
       "<style scoped>\n",
       "    .dataframe tbody tr th:only-of-type {\n",
       "        vertical-align: middle;\n",
       "    }\n",
       "\n",
       "    .dataframe tbody tr th {\n",
       "        vertical-align: top;\n",
       "    }\n",
       "\n",
       "    .dataframe thead th {\n",
       "        text-align: right;\n",
       "    }\n",
       "</style>\n",
       "<table border=\"1\" class=\"dataframe\">\n",
       "  <thead>\n",
       "    <tr style=\"text-align: right;\">\n",
       "      <th></th>\n",
       "      <th>PC1</th>\n",
       "      <th>PC2</th>\n",
       "      <th>PC3</th>\n",
       "      <th>PC4</th>\n",
       "      <th>PC5</th>\n",
       "    </tr>\n",
       "  </thead>\n",
       "  <tbody>\n",
       "    <tr>\n",
       "      <th>0</th>\n",
       "      <td>-3.107830</td>\n",
       "      <td>-0.808788</td>\n",
       "      <td>-1.078806</td>\n",
       "      <td>0.758356</td>\n",
       "      <td>0.300463</td>\n",
       "    </tr>\n",
       "    <tr>\n",
       "      <th>1</th>\n",
       "      <td>0.527814</td>\n",
       "      <td>-0.039060</td>\n",
       "      <td>-0.161491</td>\n",
       "      <td>-1.381141</td>\n",
       "      <td>0.092981</td>\n",
       "    </tr>\n",
       "    <tr>\n",
       "      <th>2</th>\n",
       "      <td>-0.397947</td>\n",
       "      <td>-0.348363</td>\n",
       "      <td>1.880647</td>\n",
       "      <td>-0.551901</td>\n",
       "      <td>0.486946</td>\n",
       "    </tr>\n",
       "    <tr>\n",
       "      <th>3</th>\n",
       "      <td>-3.539345</td>\n",
       "      <td>0.900306</td>\n",
       "      <td>1.999504</td>\n",
       "      <td>2.006402</td>\n",
       "      <td>0.263811</td>\n",
       "    </tr>\n",
       "    <tr>\n",
       "      <th>4</th>\n",
       "      <td>1.186951</td>\n",
       "      <td>0.807949</td>\n",
       "      <td>-0.181903</td>\n",
       "      <td>-0.661115</td>\n",
       "      <td>-0.486962</td>\n",
       "    </tr>\n",
       "  </tbody>\n",
       "</table>\n",
       "</div>"
      ],
      "text/plain": [
       "        PC1       PC2       PC3       PC4       PC5\n",
       "0 -3.107830 -0.808788 -1.078806  0.758356  0.300463\n",
       "1  0.527814 -0.039060 -0.161491 -1.381141  0.092981\n",
       "2 -0.397947 -0.348363  1.880647 -0.551901  0.486946\n",
       "3 -3.539345  0.900306  1.999504  2.006402  0.263811\n",
       "4  1.186951  0.807949 -0.181903 -0.661115 -0.486962"
      ]
     },
     "execution_count": 36,
     "metadata": {},
     "output_type": "execute_result"
    }
   ],
   "source": [
    "#converting the numpy array pc into a dataframe\n",
    "\n",
    "country_data_after_pca = pd.DataFrame({'PC1':pc[0],'PC2':pc[1],'PC3':pc[2],'PC4':pc[3],'PC5':pc[4]})\n",
    "country_data_after_pca.head()"
   ]
  },
  {
   "cell_type": "code",
   "execution_count": 37,
   "metadata": {},
   "outputs": [
    {
     "data": {
      "text/plain": [
       "(155, 5)"
      ]
     },
     "execution_count": 37,
     "metadata": {},
     "output_type": "execute_result"
    }
   ],
   "source": [
    "country_data_after_pca.shape"
   ]
  },
  {
   "cell_type": "markdown",
   "metadata": {},
   "source": [
    "### Step 4: Clustering - K Means"
   ]
  },
  {
   "cell_type": "markdown",
   "metadata": {},
   "source": [
    "#### a)  Hopkins Statistics:\n",
    "The Hopkins statistic, helps to determine as to how well the data can be clustered.\n",
    "\n",
    "- If the value is between {0.01, ...,0.3}, the data is regularly spaced.\n",
    "\n",
    "- If the value is around 0.5, it is random.\n",
    "\n",
    "- If the value is between {0.7, ..., 0.99}, it has a high tendency to cluster."
   ]
  },
  {
   "cell_type": "code",
   "execution_count": 38,
   "metadata": {},
   "outputs": [],
   "source": [
    "from sklearn.neighbors import NearestNeighbors\n",
    "from random import sample\n",
    "\n",
    "def hopkins_statistic(df):\n",
    "    \n",
    "    n_samples = df.shape[0]\n",
    "    num_samples = int(0.1 * n_samples) \n",
    "    states = sample(range(0, n_samples, 1), num_samples)\n",
    " \n",
    "    hopkins_statistic = []\n",
    "    for random_state in states:\n",
    "        X = df.sample(n=num_samples, random_state=random_state)\n",
    "        nbrs = NearestNeighbors(n_neighbors=2).fit(X.values)\n",
    "        sample_dist = nbrs.kneighbors(X)[0][:,1]\n",
    "        sample_dist = np.sum(sample_dist)\n",
    "        random_data = np.random.rand(X.shape[0], X.shape[1])\n",
    "        nbrs.fit(random_data)\n",
    "        random_dist = nbrs.kneighbors(random_data)[0][:,1]\n",
    "        random_dist = np.sum(random_dist)\n",
    "        hs = sample_dist/(sample_dist+random_dist)\n",
    "        hopkins_statistic.append(hs)\n",
    "    H = np.mean(np.array(hopkins_statistic))\n",
    "    return H"
   ]
  },
  {
   "cell_type": "code",
   "execution_count": 39,
   "metadata": {
    "scrolled": false
   },
   "outputs": [
    {
     "data": {
      "text/plain": [
       "0.7786858157482184"
      ]
     },
     "execution_count": 39,
     "metadata": {},
     "output_type": "execute_result"
    }
   ],
   "source": [
    "hopkins_statistic(country_data_after_pca)"
   ]
  },
  {
   "cell_type": "markdown",
   "metadata": {},
   "source": [
    "Since the hopkins statistics value is > 0.7 the given dataset has a high tendency to form clusters."
   ]
  },
  {
   "cell_type": "markdown",
   "metadata": {},
   "source": [
    "#### b)  Silhouette Analysis:\n",
    "\n",
    "* The value of the silhouette score range lies between -1 to 1. \n",
    "\n",
    "* A score closer to 1 indicates that the data point is very similar to other data points in the cluster, \n",
    "\n",
    "* A score closer to -1 indicates that the data point is not similar to the data points in its cluster."
   ]
  },
  {
   "cell_type": "code",
   "execution_count": 40,
   "metadata": {},
   "outputs": [],
   "source": [
    "from sklearn.metrics import silhouette_score\n",
    "sse_ = []\n",
    "for k in range(2, 9):\n",
    "    kmeans = KMeans(n_clusters=k).fit(country_data_after_pca)\n",
    "    sse_.append([k, silhouette_score(country_data_after_pca, kmeans.labels_)])"
   ]
  },
  {
   "cell_type": "code",
   "execution_count": 41,
   "metadata": {},
   "outputs": [
    {
     "name": "stdout",
     "output_type": "stream",
     "text": [
      "For n_clusters=2, the silhouette score is 0.29371279638583325\n",
      "For n_clusters=3, the silhouette score is 0.29471155884604555\n",
      "For n_clusters=4, the silhouette score is 0.2754050168784021\n",
      "For n_clusters=5, the silhouette score is 0.2706644877060937\n",
      "For n_clusters=6, the silhouette score is 0.272268031232251\n",
      "For n_clusters=7, the silhouette score is 0.28364960383545623\n",
      "For n_clusters=8, the silhouette score is 0.25012982579505566\n"
     ]
    }
   ],
   "source": [
    "for score in sse_:\n",
    "    print(f\"For n_clusters={score[0]}, the silhouette score is {score[1]}\")"
   ]
  },
  {
   "cell_type": "code",
   "execution_count": 42,
   "metadata": {},
   "outputs": [
    {
     "data": {
      "image/png": "[encoded data removed]",
      "text/plain": [
       "<Figure size 432x288 with 1 Axes>"
      ]
     },
     "metadata": {
      "needs_background": "light"
     },
     "output_type": "display_data"
    }
   ],
   "source": [
    "plt.plot(pd.DataFrame(sse_)[0], pd.DataFrame(sse_)[1]);"
   ]
  },
  {
   "cell_type": "markdown",
   "metadata": {},
   "source": [
    "From the above analysis we find that 2 or 3 seem to be a good number of clusters for K means algorithm"
   ]
  },
  {
   "cell_type": "markdown",
   "metadata": {},
   "source": [
    "#### c) Sum of Squared Distances (Elbow Curve Method):"
   ]
  },
  {
   "cell_type": "code",
   "execution_count": 43,
   "metadata": {},
   "outputs": [
    {
     "data": {
      "image/png": "[encoded data removed]",
      "text/plain": [
       "<Figure size 432x288 with 1 Axes>"
      ]
     },
     "metadata": {
      "needs_background": "light"
     },
     "output_type": "display_data"
    }
   ],
   "source": [
    "ssd = []\n",
    "for num_clusters in list(range(1,10)):\n",
    "    model_clus = KMeans(n_clusters = num_clusters, max_iter=50)\n",
    "    model_clus.fit(country_data_after_pca)\n",
    "    ssd.append(model_clus.inertia_)\n",
    "\n",
    "plt.plot(ssd)\n",
    "plt.show()"
   ]
  },
  {
   "cell_type": "markdown",
   "metadata": {},
   "source": [
    "In the above graph also, we see a bend at around 2 or 3 . Hence we will check for K = 2 and K = 3 values."
   ]
  },
  {
   "cell_type": "markdown",
   "metadata": {},
   "source": [
    "#### d) K Means with different k values\n",
    "\n",
    "From the above plots, we can determine that the K value can either take 2 or 3. Hence let us try with these both k values"
   ]
  },
  {
   "cell_type": "code",
   "execution_count": 44,
   "metadata": {},
   "outputs": [
    {
     "data": {
      "text/plain": [
       "KMeans(algorithm='auto', copy_x=True, init='k-means++', max_iter=50,\n",
       "    n_clusters=2, n_init=10, n_jobs=None, precompute_distances='auto',\n",
       "    random_state=42, tol=0.0001, verbose=0)"
      ]
     },
     "execution_count": 44,
     "metadata": {},
     "output_type": "execute_result"
    }
   ],
   "source": [
    "#Kmeans with K=2\n",
    "model_clus2 = KMeans(n_clusters = 2, max_iter=50, random_state=42)\n",
    "model_clus2.fit(country_data_after_pca)"
   ]
  },
  {
   "cell_type": "code",
   "execution_count": 45,
   "metadata": {},
   "outputs": [
    {
     "data": {
      "text/plain": [
       "KMeans(algorithm='auto', copy_x=True, init='k-means++', max_iter=50,\n",
       "    n_clusters=3, n_init=10, n_jobs=None, precompute_distances='auto',\n",
       "    random_state=42, tol=0.0001, verbose=0)"
      ]
     },
     "execution_count": 45,
     "metadata": {},
     "output_type": "execute_result"
    }
   ],
   "source": [
    "#Kmeans with K=3\n",
    "model_clus3 = KMeans(n_clusters = 3, max_iter=50, random_state=42)\n",
    "model_clus3.fit(country_data_after_pca)"
   ]
  },
  {
   "cell_type": "markdown",
   "metadata": {},
   "source": [
    "#### e) Analyse the clusters with K Means = 2"
   ]
  },
  {
   "cell_type": "code",
   "execution_count": 46,
   "metadata": {},
   "outputs": [
    {
     "data": {
      "text/html": [
       "<div>\n",
       "<style scoped>\n",
       "    .dataframe tbody tr th:only-of-type {\n",
       "        vertical-align: middle;\n",
       "    }\n",
       "\n",
       "    .dataframe tbody tr th {\n",
       "        vertical-align: top;\n",
       "    }\n",
       "\n",
       "    .dataframe thead th {\n",
       "        text-align: right;\n",
       "    }\n",
       "</style>\n",
       "<table border=\"1\" class=\"dataframe\">\n",
       "  <thead>\n",
       "    <tr style=\"text-align: right;\">\n",
       "      <th></th>\n",
       "      <th>PC1</th>\n",
       "      <th>PC2</th>\n",
       "      <th>PC3</th>\n",
       "      <th>PC4</th>\n",
       "      <th>PC5</th>\n",
       "      <th>clusterId</th>\n",
       "    </tr>\n",
       "  </thead>\n",
       "  <tbody>\n",
       "    <tr>\n",
       "      <th>0</th>\n",
       "      <td>-3.107830</td>\n",
       "      <td>-0.808788</td>\n",
       "      <td>-1.078806</td>\n",
       "      <td>0.758356</td>\n",
       "      <td>0.300463</td>\n",
       "      <td>0</td>\n",
       "    </tr>\n",
       "    <tr>\n",
       "      <th>1</th>\n",
       "      <td>0.527814</td>\n",
       "      <td>-0.039060</td>\n",
       "      <td>-0.161491</td>\n",
       "      <td>-1.381141</td>\n",
       "      <td>0.092981</td>\n",
       "      <td>1</td>\n",
       "    </tr>\n",
       "    <tr>\n",
       "      <th>2</th>\n",
       "      <td>-0.397947</td>\n",
       "      <td>-0.348363</td>\n",
       "      <td>1.880647</td>\n",
       "      <td>-0.551901</td>\n",
       "      <td>0.486946</td>\n",
       "      <td>0</td>\n",
       "    </tr>\n",
       "    <tr>\n",
       "      <th>3</th>\n",
       "      <td>-3.539345</td>\n",
       "      <td>0.900306</td>\n",
       "      <td>1.999504</td>\n",
       "      <td>2.006402</td>\n",
       "      <td>0.263811</td>\n",
       "      <td>0</td>\n",
       "    </tr>\n",
       "    <tr>\n",
       "      <th>4</th>\n",
       "      <td>1.186951</td>\n",
       "      <td>0.807949</td>\n",
       "      <td>-0.181903</td>\n",
       "      <td>-0.661115</td>\n",
       "      <td>-0.486962</td>\n",
       "      <td>1</td>\n",
       "    </tr>\n",
       "    <tr>\n",
       "      <th>5</th>\n",
       "      <td>0.111379</td>\n",
       "      <td>-1.934988</td>\n",
       "      <td>1.644319</td>\n",
       "      <td>-0.293105</td>\n",
       "      <td>1.824034</td>\n",
       "      <td>1</td>\n",
       "    </tr>\n",
       "    <tr>\n",
       "      <th>6</th>\n",
       "      <td>-0.139852</td>\n",
       "      <td>-0.220916</td>\n",
       "      <td>0.495031</td>\n",
       "      <td>-1.588134</td>\n",
       "      <td>-0.009422</td>\n",
       "      <td>1</td>\n",
       "    </tr>\n",
       "    <tr>\n",
       "      <th>7</th>\n",
       "      <td>3.077738</td>\n",
       "      <td>-2.285390</td>\n",
       "      <td>-0.082755</td>\n",
       "      <td>0.744544</td>\n",
       "      <td>-0.737541</td>\n",
       "      <td>1</td>\n",
       "    </tr>\n",
       "    <tr>\n",
       "      <th>8</th>\n",
       "      <td>3.613258</td>\n",
       "      <td>-0.326805</td>\n",
       "      <td>-0.618599</td>\n",
       "      <td>1.232721</td>\n",
       "      <td>-0.026201</td>\n",
       "      <td>1</td>\n",
       "    </tr>\n",
       "    <tr>\n",
       "      <th>9</th>\n",
       "      <td>-0.192142</td>\n",
       "      <td>-0.288027</td>\n",
       "      <td>1.602653</td>\n",
       "      <td>-0.076198</td>\n",
       "      <td>0.398347</td>\n",
       "      <td>1</td>\n",
       "    </tr>\n",
       "  </tbody>\n",
       "</table>\n",
       "</div>"
      ],
      "text/plain": [
       "        PC1       PC2       PC3       PC4       PC5  clusterId\n",
       "0 -3.107830 -0.808788 -1.078806  0.758356  0.300463          0\n",
       "1  0.527814 -0.039060 -0.161491 -1.381141  0.092981          1\n",
       "2 -0.397947 -0.348363  1.880647 -0.551901  0.486946          0\n",
       "3 -3.539345  0.900306  1.999504  2.006402  0.263811          0\n",
       "4  1.186951  0.807949 -0.181903 -0.661115 -0.486962          1\n",
       "5  0.111379 -1.934988  1.644319 -0.293105  1.824034          1\n",
       "6 -0.139852 -0.220916  0.495031 -1.588134 -0.009422          1\n",
       "7  3.077738 -2.285390 -0.082755  0.744544 -0.737541          1\n",
       "8  3.613258 -0.326805 -0.618599  1.232721 -0.026201          1\n",
       "9 -0.192142 -0.288027  1.602653 -0.076198  0.398347          1"
      ]
     },
     "execution_count": 46,
     "metadata": {},
     "output_type": "execute_result"
    }
   ],
   "source": [
    "country_data_2 = country_data_after_pca\n",
    "country_data_2.index = pd.RangeIndex(len(country_data_2.index))\n",
    "country_data_2_km = pd.concat([country_data_2, pd.Series(model_clus2.labels_)], axis=1)\n",
    "country_data_2_km.columns = ['PC1', 'PC2', 'PC3', 'PC4', 'PC5', 'clusterId']\n",
    "country_data_2_km.head(10)"
   ]
  },
  {
   "cell_type": "code",
   "execution_count": 47,
   "metadata": {},
   "outputs": [
    {
     "data": {
      "text/plain": [
       "1    89\n",
       "0    66\n",
       "Name: clusterId, dtype: int64"
      ]
     },
     "execution_count": 47,
     "metadata": {},
     "output_type": "execute_result"
    }
   ],
   "source": [
    "country_data_2_km['clusterId'].value_counts()"
   ]
  },
  {
   "cell_type": "markdown",
   "metadata": {},
   "source": [
    "#### f) Visualization on 2 Principle Components with K = 2\n",
    "With two Principal Components (on the X-Y axes), plotting a scatter plot of all the countries and differentiating the clusters."
   ]
  },
  {
   "cell_type": "code",
   "execution_count": 48,
   "metadata": {},
   "outputs": [
    {
     "data": {
      "image/png": "[encoded data removed]",
      "text/plain": [
       "<Figure size 720x360 with 1 Axes>"
      ]
     },
     "metadata": {
      "needs_background": "light"
     },
     "output_type": "display_data"
    }
   ],
   "source": [
    "plt.figure(figsize = (10,5))\n",
    "sns.scatterplot(x='PC1',y='PC2',hue='clusterId',legend='full', palette=['red','green'], data=country_data_2_km)\n",
    "plt.title('K = 2')\n",
    "plt.show()"
   ]
  },
  {
   "cell_type": "markdown",
   "metadata": {},
   "source": [
    "#### g) Analyse the clusters with K Means = 3"
   ]
  },
  {
   "cell_type": "code",
   "execution_count": 49,
   "metadata": {},
   "outputs": [
    {
     "data": {
      "text/html": [
       "<div>\n",
       "<style scoped>\n",
       "    .dataframe tbody tr th:only-of-type {\n",
       "        vertical-align: middle;\n",
       "    }\n",
       "\n",
       "    .dataframe tbody tr th {\n",
       "        vertical-align: top;\n",
       "    }\n",
       "\n",
       "    .dataframe thead th {\n",
       "        text-align: right;\n",
       "    }\n",
       "</style>\n",
       "<table border=\"1\" class=\"dataframe\">\n",
       "  <thead>\n",
       "    <tr style=\"text-align: right;\">\n",
       "      <th></th>\n",
       "      <th>PC1</th>\n",
       "      <th>PC2</th>\n",
       "      <th>PC3</th>\n",
       "      <th>PC4</th>\n",
       "      <th>PC5</th>\n",
       "      <th>clusterId</th>\n",
       "    </tr>\n",
       "  </thead>\n",
       "  <tbody>\n",
       "    <tr>\n",
       "      <th>0</th>\n",
       "      <td>-3.107830</td>\n",
       "      <td>-0.808788</td>\n",
       "      <td>-1.078806</td>\n",
       "      <td>0.758356</td>\n",
       "      <td>0.300463</td>\n",
       "      <td>0</td>\n",
       "    </tr>\n",
       "    <tr>\n",
       "      <th>1</th>\n",
       "      <td>0.527814</td>\n",
       "      <td>-0.039060</td>\n",
       "      <td>-0.161491</td>\n",
       "      <td>-1.381141</td>\n",
       "      <td>0.092981</td>\n",
       "      <td>2</td>\n",
       "    </tr>\n",
       "    <tr>\n",
       "      <th>2</th>\n",
       "      <td>-0.397947</td>\n",
       "      <td>-0.348363</td>\n",
       "      <td>1.880647</td>\n",
       "      <td>-0.551901</td>\n",
       "      <td>0.486946</td>\n",
       "      <td>2</td>\n",
       "    </tr>\n",
       "    <tr>\n",
       "      <th>3</th>\n",
       "      <td>-3.539345</td>\n",
       "      <td>0.900306</td>\n",
       "      <td>1.999504</td>\n",
       "      <td>2.006402</td>\n",
       "      <td>0.263811</td>\n",
       "      <td>0</td>\n",
       "    </tr>\n",
       "    <tr>\n",
       "      <th>4</th>\n",
       "      <td>1.186951</td>\n",
       "      <td>0.807949</td>\n",
       "      <td>-0.181903</td>\n",
       "      <td>-0.661115</td>\n",
       "      <td>-0.486962</td>\n",
       "      <td>2</td>\n",
       "    </tr>\n",
       "    <tr>\n",
       "      <th>5</th>\n",
       "      <td>0.111379</td>\n",
       "      <td>-1.934988</td>\n",
       "      <td>1.644319</td>\n",
       "      <td>-0.293105</td>\n",
       "      <td>1.824034</td>\n",
       "      <td>2</td>\n",
       "    </tr>\n",
       "    <tr>\n",
       "      <th>6</th>\n",
       "      <td>-0.139852</td>\n",
       "      <td>-0.220916</td>\n",
       "      <td>0.495031</td>\n",
       "      <td>-1.588134</td>\n",
       "      <td>-0.009422</td>\n",
       "      <td>2</td>\n",
       "    </tr>\n",
       "    <tr>\n",
       "      <th>7</th>\n",
       "      <td>3.077738</td>\n",
       "      <td>-2.285390</td>\n",
       "      <td>-0.082755</td>\n",
       "      <td>0.744544</td>\n",
       "      <td>-0.737541</td>\n",
       "      <td>1</td>\n",
       "    </tr>\n",
       "    <tr>\n",
       "      <th>8</th>\n",
       "      <td>3.613258</td>\n",
       "      <td>-0.326805</td>\n",
       "      <td>-0.618599</td>\n",
       "      <td>1.232721</td>\n",
       "      <td>-0.026201</td>\n",
       "      <td>1</td>\n",
       "    </tr>\n",
       "    <tr>\n",
       "      <th>9</th>\n",
       "      <td>-0.192142</td>\n",
       "      <td>-0.288027</td>\n",
       "      <td>1.602653</td>\n",
       "      <td>-0.076198</td>\n",
       "      <td>0.398347</td>\n",
       "      <td>2</td>\n",
       "    </tr>\n",
       "  </tbody>\n",
       "</table>\n",
       "</div>"
      ],
      "text/plain": [
       "        PC1       PC2       PC3       PC4       PC5  clusterId\n",
       "0 -3.107830 -0.808788 -1.078806  0.758356  0.300463          0\n",
       "1  0.527814 -0.039060 -0.161491 -1.381141  0.092981          2\n",
       "2 -0.397947 -0.348363  1.880647 -0.551901  0.486946          2\n",
       "3 -3.539345  0.900306  1.999504  2.006402  0.263811          0\n",
       "4  1.186951  0.807949 -0.181903 -0.661115 -0.486962          2\n",
       "5  0.111379 -1.934988  1.644319 -0.293105  1.824034          2\n",
       "6 -0.139852 -0.220916  0.495031 -1.588134 -0.009422          2\n",
       "7  3.077738 -2.285390 -0.082755  0.744544 -0.737541          1\n",
       "8  3.613258 -0.326805 -0.618599  1.232721 -0.026201          1\n",
       "9 -0.192142 -0.288027  1.602653 -0.076198  0.398347          2"
      ]
     },
     "execution_count": 49,
     "metadata": {},
     "output_type": "execute_result"
    }
   ],
   "source": [
    "country_data_3 = country_data_after_pca\n",
    "country_data_3.index = pd.RangeIndex(len(country_data_3.index))\n",
    "country_data_3_km = pd.concat([country_data_3, pd.Series(model_clus3.labels_)], axis=1)\n",
    "country_data_3_km.columns = ['PC1', 'PC2', 'PC3', 'PC4', 'PC5', 'clusterId']\n",
    "country_data_3_km.head(10)"
   ]
  },
  {
   "cell_type": "code",
   "execution_count": 50,
   "metadata": {},
   "outputs": [
    {
     "data": {
      "text/plain": [
       "2    79\n",
       "0    47\n",
       "1    29\n",
       "Name: clusterId, dtype: int64"
      ]
     },
     "execution_count": 50,
     "metadata": {},
     "output_type": "execute_result"
    }
   ],
   "source": [
    "country_data_3_km['clusterId'].value_counts()"
   ]
  },
  {
   "cell_type": "markdown",
   "metadata": {},
   "source": [
    "#### h) Visualization on 2 Principle Components with K = 3\n",
    "With two Principal Components (on the X-Y axes), plotting a scatter plot of all the countries and differentiating the clusters."
   ]
  },
  {
   "cell_type": "code",
   "execution_count": 51,
   "metadata": {},
   "outputs": [
    {
     "data": {
      "image/png": "[encoded data removed]",
      "text/plain": [
       "<Figure size 720x360 with 1 Axes>"
      ]
     },
     "metadata": {
      "needs_background": "light"
     },
     "output_type": "display_data"
    }
   ],
   "source": [
    "plt.figure(figsize = (10,5))\n",
    "sns.scatterplot(x='PC1',y='PC2',hue='clusterId',legend='full', palette=['red','green','blue'], data=country_data_3_km)\n",
    "plt.title('K = 3')\n",
    "plt.show()"
   ]
  },
  {
   "cell_type": "markdown",
   "metadata": {},
   "source": [
    "From the above 2 different scatter plots for k values 2 and 3 respectively, following can be inferred :\n",
    "* The scatter plot for K=3 is better than that of K=2 as K=3 shows a better seggregation of clusters\n",
    "* Business wise, if we take K=3, it would be easier to seggregate the countries under 3 cateories like,developed,developing and underdeveloped countries.\n",
    "        \n",
    "Hence we will go ahead with value 3 for K for further analysis"
   ]
  },
  {
   "cell_type": "code",
   "execution_count": 52,
   "metadata": {},
   "outputs": [],
   "source": [
    "#Analysis of clusters formed for original variables with K=3\n",
    "\n",
    "country_data.index = pd.RangeIndex(len(country_data.index))\n",
    "country_data_km3 = pd.concat([country_data, pd.Series(model_clus3.labels_)], axis=1)\n",
    "country_data_km3.columns = ['country', 'child_mort', 'exports', 'health', 'imports', 'income', 'inflation', 'life_expec','total_fer','gdpp', 'clusterId']\n",
    "\n",
    "km_clusters_childmort = pd.DataFrame(country_data_km3.groupby([\"clusterId\"]).child_mort.mean())\n",
    "km_clusters_exports = pd.DataFrame(country_data_km3.groupby([\"clusterId\"]).exports.mean())\n",
    "km_clusters_health = pd.DataFrame(country_data_km3.groupby([\"clusterId\"]).health.mean())\n",
    "km_clusters_imports = pd.DataFrame(country_data_km3.groupby([\"clusterId\"]).imports.mean())\n",
    "km_clusters_income = pd.DataFrame(country_data_km3.groupby([\"clusterId\"]).income.mean())\n",
    "km_clusters_inflation = pd.DataFrame(country_data_km3.groupby([\"clusterId\"]).inflation.mean())\n",
    "km_clusters_lifeexpec = pd.DataFrame(country_data_km3.groupby([\"clusterId\"]).life_expec.mean())\n",
    "km_clusters_totalfer = pd.DataFrame(country_data_km3.groupby([\"clusterId\"]).total_fer.mean())\n",
    "km_clusters_gdpp = pd.DataFrame(country_data_km3.groupby([\"clusterId\"]).gdpp.mean())"
   ]
  },
  {
   "cell_type": "code",
   "execution_count": 53,
   "metadata": {},
   "outputs": [
    {
     "data": {
      "text/html": [
       "<div>\n",
       "<style scoped>\n",
       "    .dataframe tbody tr th:only-of-type {\n",
       "        vertical-align: middle;\n",
       "    }\n",
       "\n",
       "    .dataframe tbody tr th {\n",
       "        vertical-align: top;\n",
       "    }\n",
       "\n",
       "    .dataframe thead th {\n",
       "        text-align: right;\n",
       "    }\n",
       "</style>\n",
       "<table border=\"1\" class=\"dataframe\">\n",
       "  <thead>\n",
       "    <tr style=\"text-align: right;\">\n",
       "      <th></th>\n",
       "      <th>clusterId</th>\n",
       "      <th>child_mort_mean</th>\n",
       "      <th>exports_mean</th>\n",
       "      <th>health_mean</th>\n",
       "      <th>imports_mean</th>\n",
       "      <th>income_mean</th>\n",
       "      <th>inflation_mean</th>\n",
       "      <th>life_expec_mean</th>\n",
       "      <th>total_fer_mean</th>\n",
       "      <th>gdpp_mean</th>\n",
       "    </tr>\n",
       "  </thead>\n",
       "  <tbody>\n",
       "    <tr>\n",
       "      <th>0</th>\n",
       "      <td>0</td>\n",
       "      <td>85.770213</td>\n",
       "      <td>28.887213</td>\n",
       "      <td>6.027872</td>\n",
       "      <td>41.850338</td>\n",
       "      <td>3995.808511</td>\n",
       "      <td>9.689255</td>\n",
       "      <td>60.297872</td>\n",
       "      <td>4.806596</td>\n",
       "      <td>1851.680851</td>\n",
       "    </tr>\n",
       "    <tr>\n",
       "      <th>1</th>\n",
       "      <td>1</td>\n",
       "      <td>4.900000</td>\n",
       "      <td>42.865517</td>\n",
       "      <td>9.551379</td>\n",
       "      <td>40.013793</td>\n",
       "      <td>39910.344828</td>\n",
       "      <td>2.068379</td>\n",
       "      <td>80.193103</td>\n",
       "      <td>1.767931</td>\n",
       "      <td>41155.172414</td>\n",
       "    </tr>\n",
       "    <tr>\n",
       "      <th>2</th>\n",
       "      <td>2</td>\n",
       "      <td>19.973418</td>\n",
       "      <td>42.644304</td>\n",
       "      <td>6.318354</td>\n",
       "      <td>49.067089</td>\n",
       "      <td>13172.531646</td>\n",
       "      <td>6.557899</td>\n",
       "      <td>73.184810</td>\n",
       "      <td>2.269873</td>\n",
       "      <td>6763.848101</td>\n",
       "    </tr>\n",
       "  </tbody>\n",
       "</table>\n",
       "</div>"
      ],
      "text/plain": [
       "   clusterId  child_mort_mean  exports_mean  health_mean  imports_mean  \\\n",
       "0          0        85.770213     28.887213     6.027872     41.850338   \n",
       "1          1         4.900000     42.865517     9.551379     40.013793   \n",
       "2          2        19.973418     42.644304     6.318354     49.067089   \n",
       "\n",
       "    income_mean  inflation_mean  life_expec_mean  total_fer_mean     gdpp_mean  \n",
       "0   3995.808511        9.689255        60.297872        4.806596   1851.680851  \n",
       "1  39910.344828        2.068379        80.193103        1.767931  41155.172414  \n",
       "2  13172.531646        6.557899        73.184810        2.269873   6763.848101  "
      ]
     },
     "execution_count": 53,
     "metadata": {},
     "output_type": "execute_result"
    }
   ],
   "source": [
    "original_country_data_km3 = pd.concat([pd.Series([0,1,2]), km_clusters_childmort, km_clusters_exports, km_clusters_health,\n",
    "                                       km_clusters_imports, km_clusters_income, km_clusters_inflation, km_clusters_lifeexpec,\n",
    "                                       km_clusters_totalfer, km_clusters_gdpp], axis=1)\n",
    "original_country_data_km3.columns = [\"clusterId\", \"child_mort_mean\", \"exports_mean\", \"health_mean\", \"imports_mean\",\n",
    "                                     \"income_mean\", \"inflation_mean\", \"life_expec_mean\", \"total_fer_mean\", \"gdpp_mean\"]\n",
    "original_country_data_km3.head()"
   ]
  },
  {
   "cell_type": "code",
   "execution_count": 54,
   "metadata": {},
   "outputs": [
    {
     "data": {
      "image/png": "[encoded data removed]",
      "text/plain": [
       "<Figure size 864x720 with 9 Axes>"
      ]
     },
     "metadata": {
      "needs_background": "light"
     },
     "output_type": "display_data"
    }
   ],
   "source": [
    "fig, axs = plt.subplots(3,3,figsize = (12,10))\n",
    "\n",
    "sns.barplot(x=original_country_data_km3.clusterId, y=original_country_data_km3.child_mort_mean, ax = axs[0,0])\n",
    "sns.barplot(x=original_country_data_km3.clusterId, y=original_country_data_km3.exports_mean, ax = axs[0,1])\n",
    "sns.barplot(x=original_country_data_km3.clusterId, y=original_country_data_km3.health_mean, ax = axs[0,2])\n",
    "sns.barplot(x=original_country_data_km3.clusterId, y=original_country_data_km3.imports_mean, ax = axs[1,0])\n",
    "sns.barplot(x=original_country_data_km3.clusterId, y=original_country_data_km3.income_mean, ax = axs[1,1])\n",
    "sns.barplot(x=original_country_data_km3.clusterId, y=original_country_data_km3.inflation_mean, ax = axs[1,2])\n",
    "sns.barplot(x=original_country_data_km3.clusterId, y=original_country_data_km3.life_expec_mean, ax = axs[2,0])\n",
    "sns.barplot(x=original_country_data_km3.clusterId, y=original_country_data_km3.total_fer_mean, ax = axs[2,1])\n",
    "sns.barplot(x=original_country_data_km3.clusterId, y=original_country_data_km3.gdpp_mean, ax = axs[2,2])\n",
    "\n",
    "plt.tight_layout()\n",
    "plt.show()"
   ]
  },
  {
   "cell_type": "markdown",
   "metadata": {},
   "source": [
    "#### i) Analysis for cluster which is in dire need of aid:\n",
    "1) Based on the above clustering, \n",
    "* countries grouped under `cluster 0` are `under-developed countries`\n",
    "* countries grouped under `cluster 1` are `developed countries`\n",
    "* countries grouped under `cluster 2` are `developing countries`        \n",
    "     \n",
    "2) From the above bar plots, it can be derived that,\n",
    "* For developed countries, exports, spending on health, income, life expectation and gdpp is very high as opposed to under developed countries for which all these variables are low.\n",
    "* For developed countries, child mortality rate, inflation, imports, total fertility are less as compared to that of underdeveloped countries\n",
    "\n",
    "3) For underdeveloped countries, the following fields required more attention\n",
    "* `child_mortality`\n",
    "* `health`\n",
    "* `income`\n",
    "* `life_expectancy`\n",
    "* `gdpp`\n",
    "          \n",
    "Hence, from the above plot, it can be determined that the following cluster 0 which are identified as under-developed countries are the ones that are in dire need of aid    "
   ]
  },
  {
   "cell_type": "markdown",
   "metadata": {},
   "source": [
    "#### j) Visualisation on the clusters formed for original variables\n",
    "    "
   ]
  },
  {
   "cell_type": "code",
   "execution_count": 55,
   "metadata": {},
   "outputs": [
    {
     "data": {
      "image/png": "[encoded data removed]",
      "text/plain": [
       "<Figure size 1440x360 with 2 Axes>"
      ]
     },
     "metadata": {
      "needs_background": "light"
     },
     "output_type": "display_data"
    }
   ],
   "source": [
    "#Scatter plots of two principle component variables. \n",
    "\n",
    "f, (ax1, ax2) = plt.subplots(1,2, figsize = (20,5))\n",
    "\n",
    "sns.scatterplot(x=\"child_mort\", y=\"gdpp\", hue=\"clusterId\", data=country_data_km3, palette=['red','green','blue'], legend='full', ax = ax1)\n",
    "sns.scatterplot(x=\"child_mort\", y=\"income\", hue=\"clusterId\", data=country_data_km3, palette=['red','green','blue'], legend='full', ax = ax2)\n",
    "\n",
    "plt.show()"
   ]
  },
  {
   "cell_type": "markdown",
   "metadata": {},
   "source": [
    "In the above scatter plots :\n",
    "* `cluster 0` represents `under-developed countries`\n",
    "* `cluster 1` represents `developed countries`\n",
    "* `cluster 2` represents `developing countries`"
   ]
  },
  {
   "cell_type": "markdown",
   "metadata": {},
   "source": [
    "#### k) List of 5 Countries which which are in dire need of aid :\n"
   ]
  },
  {
   "cell_type": "code",
   "execution_count": 56,
   "metadata": {},
   "outputs": [
    {
     "data": {
      "text/html": [
       "<div>\n",
       "<style scoped>\n",
       "    .dataframe tbody tr th:only-of-type {\n",
       "        vertical-align: middle;\n",
       "    }\n",
       "\n",
       "    .dataframe tbody tr th {\n",
       "        vertical-align: top;\n",
       "    }\n",
       "\n",
       "    .dataframe thead th {\n",
       "        text-align: right;\n",
       "    }\n",
       "</style>\n",
       "<table border=\"1\" class=\"dataframe\">\n",
       "  <thead>\n",
       "    <tr style=\"text-align: right;\">\n",
       "      <th></th>\n",
       "      <th>country</th>\n",
       "      <th>child_mort</th>\n",
       "      <th>exports</th>\n",
       "      <th>health</th>\n",
       "      <th>imports</th>\n",
       "      <th>income</th>\n",
       "      <th>inflation</th>\n",
       "      <th>life_expec</th>\n",
       "      <th>total_fer</th>\n",
       "      <th>gdpp</th>\n",
       "    </tr>\n",
       "  </thead>\n",
       "  <tbody>\n",
       "    <tr>\n",
       "      <th>66</th>\n",
       "      <td>Haiti</td>\n",
       "      <td>208.0</td>\n",
       "      <td>15.3</td>\n",
       "      <td>6.91</td>\n",
       "      <td>64.7</td>\n",
       "      <td>1500</td>\n",
       "      <td>5.45</td>\n",
       "      <td>32.1</td>\n",
       "      <td>3.33</td>\n",
       "      <td>662</td>\n",
       "    </tr>\n",
       "    <tr>\n",
       "      <th>132</th>\n",
       "      <td>Sierra Leone</td>\n",
       "      <td>160.0</td>\n",
       "      <td>16.8</td>\n",
       "      <td>13.10</td>\n",
       "      <td>34.5</td>\n",
       "      <td>1220</td>\n",
       "      <td>17.20</td>\n",
       "      <td>55.0</td>\n",
       "      <td>5.20</td>\n",
       "      <td>399</td>\n",
       "    </tr>\n",
       "    <tr>\n",
       "      <th>32</th>\n",
       "      <td>Chad</td>\n",
       "      <td>150.0</td>\n",
       "      <td>36.8</td>\n",
       "      <td>4.53</td>\n",
       "      <td>43.5</td>\n",
       "      <td>1930</td>\n",
       "      <td>6.39</td>\n",
       "      <td>56.5</td>\n",
       "      <td>6.59</td>\n",
       "      <td>897</td>\n",
       "    </tr>\n",
       "    <tr>\n",
       "      <th>31</th>\n",
       "      <td>Central African Republic</td>\n",
       "      <td>149.0</td>\n",
       "      <td>11.8</td>\n",
       "      <td>3.98</td>\n",
       "      <td>26.5</td>\n",
       "      <td>888</td>\n",
       "      <td>2.01</td>\n",
       "      <td>47.5</td>\n",
       "      <td>5.21</td>\n",
       "      <td>446</td>\n",
       "    </tr>\n",
       "    <tr>\n",
       "      <th>97</th>\n",
       "      <td>Mali</td>\n",
       "      <td>137.0</td>\n",
       "      <td>22.8</td>\n",
       "      <td>4.98</td>\n",
       "      <td>35.1</td>\n",
       "      <td>1870</td>\n",
       "      <td>4.37</td>\n",
       "      <td>59.5</td>\n",
       "      <td>6.55</td>\n",
       "      <td>708</td>\n",
       "    </tr>\n",
       "  </tbody>\n",
       "</table>\n",
       "</div>"
      ],
      "text/plain": [
       "                      country  child_mort  exports  health  imports  income  \\\n",
       "66                      Haiti       208.0     15.3    6.91     64.7    1500   \n",
       "132              Sierra Leone       160.0     16.8   13.10     34.5    1220   \n",
       "32                       Chad       150.0     36.8    4.53     43.5    1930   \n",
       "31   Central African Republic       149.0     11.8    3.98     26.5     888   \n",
       "97                       Mali       137.0     22.8    4.98     35.1    1870   \n",
       "\n",
       "     inflation  life_expec  total_fer  gdpp  \n",
       "66        5.45        32.1       3.33   662  \n",
       "132      17.20        55.0       5.20   399  \n",
       "32        6.39        56.5       6.59   897  \n",
       "31        2.01        47.5       5.21   446  \n",
       "97        4.37        59.5       6.55   708  "
      ]
     },
     "execution_count": 56,
     "metadata": {},
     "output_type": "execute_result"
    }
   ],
   "source": [
    "#List of countries filtered on the original data set based on high child mortality, low income and low gdpp.\n",
    "#Have considered these parameters as their mean in the clustering varies drastically amongst each other.\n",
    "\n",
    "\n",
    "country_list = country_data_with_outlier[(country_data_with_outlier['child_mort'] > 86) &\n",
    "                                         (country_data_with_outlier['income'] < 3996) &\n",
    "                                         (country_data_with_outlier['gdpp'] < 1852)]                           \n",
    "                                    \n",
    "country_list = country_list.sort_values(by=['child_mort'], ascending=False)\n",
    "country_list.head(5)"
   ]
  },
  {
   "cell_type": "markdown",
   "metadata": {},
   "source": [
    "### Step 5: Conclusion :\n",
    "\n",
    "* Following are the top 5 under developed countries based on the high child mortality rate, low spend on health and low income of the countries population.\n",
    "    - `Haiti`\n",
    "    - `Sierra Leone`\n",
    "    - `Chad`\n",
    "    - `Central African Republic`\n",
    "    - `Mali`\n",
    "        \n",
    "Hence the recommendation would be to focus more on the above countries    "
   ]
  }
 ],
 "metadata": {
  "kernelspec": {
   "display_name": "Python 3",
   "language": "python",
   "name": "python3"
  },
  "language_info": {
   "codemirror_mode": {
    "name": "ipython",
    "version": 3
   },
   "file_extension": ".py",
   "mimetype": "text/x-python",
   "name": "python",
   "nbconvert_exporter": "python",
   "pygments_lexer": "ipython3",
   "version": "3.8.5"
  }
 },
 "nbformat": 4,
 "nbformat_minor": 1
}
